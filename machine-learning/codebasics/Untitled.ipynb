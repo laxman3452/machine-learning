{
 "cells": [
  {
   "cell_type": "code",
   "execution_count": 1,
   "id": "20181b2e",
   "metadata": {},
   "outputs": [
    {
     "name": "stdout",
     "output_type": "stream",
     "text": [
      "it worked nice and easy.\n"
     ]
    }
   ],
   "source": [
    "print(\"it worked nice and easy.\")"
   ]
  },
  {
   "cell_type": "code",
   "execution_count": 2,
   "id": "ac3f1b4a",
   "metadata": {},
   "outputs": [
    {
     "ename": "ModuleNotFoundError",
     "evalue": "No module named 'panda'",
     "output_type": "error",
     "traceback": [
      "\u001b[1;31m---------------------------------------------------------------------------\u001b[0m",
      "\u001b[1;31mModuleNotFoundError\u001b[0m                       Traceback (most recent call last)",
      "Cell \u001b[1;32mIn[2], line 1\u001b[0m\n\u001b[1;32m----> 1\u001b[0m \u001b[38;5;28;01mimport\u001b[39;00m \u001b[38;5;21;01mpanda\u001b[39;00m \u001b[38;5;28;01mas\u001b[39;00m \u001b[38;5;21;01mpd\u001b[39;00m\n",
      "\u001b[1;31mModuleNotFoundError\u001b[0m: No module named 'panda'"
     ]
    }
   ],
   "source": [
    "import panda as pd\n",
    "import numpy as np\n",
    "from sklearn import linear_model\n",
    "import matplitlib.pyplot as plt\n"
   ]
  },
  {
   "cell_type": "code",
   "execution_count": null,
   "id": "ec65f6ee",
   "metadata": {},
   "outputs": [],
   "source": [
    "df = pd.read_csv('homeprice.csv')\n",
    "df"
   ]
  },
  {
   "cell_type": "code",
   "execution_count": null,
   "id": "651988de",
   "metadata": {},
   "outputs": [],
   "source": [
    "plt.xlabel inline \n",
    "plt.xlabel('area')\n",
    "plt.ylabel('price')\n",
    "plt.scatter(df.area,df.price,color='red',markers='+')\n"
   ]
  },
  {
   "cell_type": "code",
   "execution_count": null,
   "id": "c752eeeb",
   "metadata": {},
   "outputs": [],
   "source": [
    "new df = df.drop('price',axis='columns')\n",
    "new_df"
   ]
  },
  {
   "cell_type": "code",
   "execution_count": null,
   "id": "72ab5f4f",
   "metadata": {},
   "outputs": [],
   "source": [
    "price = df.price\n",
    "price"
   ]
  },
  {
   "cell_type": "code",
   "execution_count": null,
   "id": "19b4ee94",
   "metadata": {},
   "outputs": [],
   "source": [
    "#Create Linear regression object\n",
    "reg = linear_model.LinearRegression()\n",
    "reg.fit(new_df,price)\n"
   ]
  },
  {
   "cell_type": "code",
   "execution_count": null,
   "id": "bb8c3223",
   "metadata": {},
   "outputs": [],
   "source": [
    "reg.predict([[4000]])"
   ]
  },
  {
   "cell_type": "raw",
   "id": "2266de6d",
   "metadata": {},
   "source": [
    "reg.coeff_"
   ]
  },
  {
   "cell_type": "code",
   "execution_count": null,
   "id": "3625ffbf",
   "metadata": {},
   "outputs": [],
   "source": [
    "reg.intercept_"
   ]
  },
  {
   "cell_type": "code",
   "execution_count": null,
   "id": "d3713d1f",
   "metadata": {},
   "outputs": [],
   "source": [
    "reg.predict([[5000]])"
   ]
  },
  {
   "cell_type": "code",
   "execution_count": null,
   "id": "44866573",
   "metadata": {},
   "outputs": [],
   "source": [
    "area_df = pd.read_csv('areas.csv')\n",
    "area_df.head(3)"
   ]
  },
  {
   "cell_type": "code",
   "execution_count": null,
   "id": "61ac8fd0",
   "metadata": {},
   "outputs": [],
   "source": [
    "p = reg.predict(area)"
   ]
  }
 ],
 "metadata": {
  "kernelspec": {
   "display_name": "Python 3 (ipykernel)",
   "language": "python",
   "name": "python3"
  },
  "language_info": {
   "codemirror_mode": {
    "name": "ipython",
    "version": 3
   },
   "file_extension": ".py",
   "mimetype": "text/x-python",
   "name": "python",
   "nbconvert_exporter": "python",
   "pygments_lexer": "ipython3",
   "version": "3.11.1"
  }
 },
 "nbformat": 4,
 "nbformat_minor": 5
}
